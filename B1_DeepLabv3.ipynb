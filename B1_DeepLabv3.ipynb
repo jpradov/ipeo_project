{
 "cells": [
  {
   "cell_type": "code",
   "execution_count": null,
   "metadata": {},
   "outputs": [],
   "source": [
    "from torchvision.models.segmentation import deeplabv3\n",
    "import torch.nn as nn\n",
    "import torch\n",
    "import torch.optim as optim\n",
    "from torch.optim.lr_scheduler import CosineAnnealingLR\n",
    "from utils import data\n",
    "import pandas as pd\n",
    "from torch.utils.data import Subset, DataLoader\n",
    "from torchvision import transforms\n",
    "import config\n",
    "from tqdm import tqdm\n",
    "import kornia\n",
    "import matplotlib.pyplot as plt\n",
    "import numpy as np\n"
   ]
  },
  {
   "cell_type": "code",
   "execution_count": null,
   "metadata": {},
   "outputs": [],
   "source": [
    "#Should be cuda:0 in colab and cpu in local.\n",
    "device = torch.device(\"cuda:0\" if torch.cuda.is_available() else \"cpu\")\n",
    "print(device)"
   ]
  },
  {
   "cell_type": "code",
   "execution_count": null,
   "metadata": {},
   "outputs": [],
   "source": [
    "DATA_PATH = config.PATH_TO_DATA\n",
    "\n",
    "train_test_split = pd.read_csv(\"dataset/data_split.csv\")\n",
    "train_split = train_test_split[train_test_split['split'] == \"Train\"]['sampleid'].values\n",
    "test_split = train_test_split[train_test_split['split'] == \"Test\"]['sampleid'].values"
   ]
  },
  {
   "cell_type": "code",
   "execution_count": null,
   "metadata": {},
   "outputs": [],
   "source": [
    "preprocess = transforms.Compose([\n",
    "    transforms.Resize((256,256)), # Optional: Resize the input PIL Image to the given size.\n",
    "    transforms.Normalize(mean=[0.485, 0.456, 0.406], std=[0.229, 0.224, 0.225]),\n",
    "])\n",
    "preprocess_mask = transforms.Compose([\n",
    "    kornia.geometry.Resize((256,256), interpolation='nearest'), # Optional: Resize the input PIL Image to the given size.\n",
    "])\n",
    "dataset = data.PlanetDataset(data_dir=DATA_PATH,bands=[0,1,2],transform=preprocess,target_transform=preprocess_mask)"
   ]
  },
  {
   "cell_type": "code",
   "execution_count": null,
   "metadata": {},
   "outputs": [],
   "source": [
    "print((dataset.id2index))\n",
    "\n",
    "training_set = Subset(dataset=dataset,indices = [dataset.id2index[image_id] for image_id in train_split])\n",
    "test_set = Subset(dataset=dataset,indices = [dataset.id2index[image_id] for image_id in test_split])"
   ]
  },
  {
   "cell_type": "code",
   "execution_count": null,
   "metadata": {},
   "outputs": [],
   "source": [
    "print(f\"The training split has {len(training_set)} samples ({len(training_set)/len(dataset):.2%} of the full dataset).\")"
   ]
  },
  {
   "cell_type": "code",
   "execution_count": null,
   "metadata": {},
   "outputs": [],
   "source": [
    "from pprint import pprint\n",
    "training_set[0][1].shape"
   ]
  },
  {
   "cell_type": "code",
   "execution_count": null,
   "metadata": {},
   "outputs": [],
   "source": [
    "\n",
    "def prepare_model(backbone_model=\"mbv3\", num_classes=2):\n",
    "    \"\"\"Source : https://learnopencv.com/deep-learning-based-document-segmentation-using-semantic-segmentation-deeplabv3-on-custom-dataset/\"\"\"\n",
    "    weights = 'DEFAULT'    # Initialize model with pre-trained weights.\n",
    "    if backbone_model == \"mbv3\":\n",
    "        model = deeplabv3.deeplabv3_mobilenet_v3_large(weights=weights)\n",
    "    elif backbone_model == \"r50\":\n",
    "        model = deeplabv3.deeplabv3_resnet50(weights=weights)\n",
    "    elif backbone_model == \"r101\":\n",
    "        model = deeplabv3.deeplabv3_resnet101(weights=weights)\n",
    "    else:\n",
    "        raise ValueError(\"Wrong backbone model passed. Must be one of 'mbv3', 'r50' and 'r101' \")\n",
    " \n",
    "    model.classifier[4]         = nn.LazyConv2d(num_classes, 1)\n",
    "    model.aux_classifier[4] = nn.LazyConv2d(num_classes, 1)\n",
    " \n",
    "    return model\n",
    "\n",
    "model = prepare_model(num_classes = 2)\n",
    "\n",
    "def weighted_focal_loss(p,y_true,alpha=0.7,gamma=1):\n",
    "    \"\"\"Weighted Focal Loss as described in https://www.mdpi.com/2072-4292/14/19/4694#B26-remotesensing-14-04694\"\"\"\n",
    "    p = p['out'].softmax(dim=1)[:,0,:,:] #transform model output to probabilities. Following the paper, we consider only the probability of the POSITIVE class\n",
    "    loss =  torch.mean(y_true*(-alpha*(torch.ones(size=p.size())-p)**gamma*torch.log(p)) - (torch.ones(size=p.size())-y_true)*(1-alpha)*(p)**gamma*torch.log(p))\n",
    "    return loss"
   ]
  },
  {
   "cell_type": "code",
   "execution_count": null,
   "metadata": {},
   "outputs": [],
   "source": [
    "max_epochs = 1\n",
    "params = {'batch_size': 4,\n",
    "          'shuffle': True}\n",
    "learning_rate = 0.001 \n",
    "optimizer = optim.Adam(model.parameters(),lr=learning_rate)\n",
    "dataloader = DataLoader(training_set, **params)\n",
    "criterion = weighted_focal_loss\n",
    "# Loop over epochs\n",
    "loss_list = [0]\n",
    "scheduler = CosineAnnealingLR(optimizer, T_max=len(dataloader) * max_epochs)\n",
    "for epoch in range(max_epochs):\n",
    "    # Training\n",
    "    loss=0\n",
    "    progress_bar = tqdm(total=len(dataloader), desc=f'Loss: {loss:.5f}')\n",
    "\n",
    "    for local_batch, local_labels in dataloader:\n",
    "        # Transfer to GPU\n",
    "        local_batch, local_labels = local_batch.to(device), local_labels.to(device)\n",
    "        outputs = model(local_batch)\n",
    "        loss = criterion(outputs, local_labels)  # Calculate the loss\n",
    "        loss_list.append(loss.item())\n",
    "        # Backward pass and optimization\n",
    "        optimizer.zero_grad()  # Clear gradients\n",
    "        loss.backward()  # Compute gradients\n",
    "        optimizer.step()  # Update weights\n",
    "        scheduler.step()  # Update learning rate\n",
    "        progress_bar.set_description(f'Loss: {loss.item():.5f}')\n",
    "        progress_bar.update(1)  # Manually update the progress bar\n"
   ]
  },
  {
   "cell_type": "code",
   "execution_count": null,
   "metadata": {},
   "outputs": [],
   "source": [
    "fig,ax=plt.subplots()\n",
    "ax.plot(loss_list)\n",
    "ax.set_xlabel(\"Iter\")\n",
    "ax.set_ylabel(\"Loss\")"
   ]
  },
  {
   "cell_type": "code",
   "execution_count": null,
   "metadata": {},
   "outputs": [],
   "source": [
    "import torch\n",
    "from sklearn.metrics import precision_score, recall_score, f1_score\n",
    "\n",
    "test_dataloader = DataLoader(test_set, **params)\n",
    "#tqdm.close()\n",
    "\n",
    "# Assuming you have a trained model, test data, and labels\n",
    "model.eval()  # Set the model to evaluation mode\n",
    "y_true = []  # True labels\n",
    "y_pred = []  # Predicted labels\n",
    "\n",
    "with torch.no_grad():\n",
    "    for local_batch, local_labels in tqdm(test_dataloader):\n",
    "        local_batch, local_labels = local_batch.to(device), local_labels.to(device)\n",
    "        outputs = model(local_batch)['out']\n",
    "        _, predicted = torch.max(outputs, 1)\n",
    "        \n",
    "        y_true.extend(local_labels.cpu().numpy())  # Collect true labels\n",
    "        y_pred.extend(predicted.cpu().numpy())  # Collect predicted labels\n",
    "\n",
    "# Calculate precision, recall, and F1 score\n",
    "y_pred = np.array(y_pred).flatten()\n",
    "y_true = np.array(y_true).flatten()\n",
    "precision = precision_score(y_true, y_pred, average='weighted')\n",
    "recall = recall_score(y_true, y_pred, average='weighted')\n",
    "f1 = f1_score(y_true, y_pred, average='weighted')\n",
    "\n",
    "print(f'Precision: {precision:.2f}')\n",
    "print(f'Recall: {recall:.2f}')\n",
    "print(f'F1 Score: {f1:.2f}')"
   ]
  },
  {
   "cell_type": "code",
   "execution_count": null,
   "metadata": {},
   "outputs": [],
   "source": []
  },
  {
   "cell_type": "code",
   "execution_count": null,
   "metadata": {},
   "outputs": [],
   "source": []
  }
 ],
 "metadata": {
  "kernelspec": {
   "display_name": "ipeo_project",
   "language": "python",
   "name": "python3"
  },
  "language_info": {
   "codemirror_mode": {
    "name": "ipython",
    "version": 3
   },
   "file_extension": ".py",
   "mimetype": "text/x-python",
   "name": "python",
   "nbconvert_exporter": "python",
   "pygments_lexer": "ipython3",
   "version": "3.10.13"
  }
 },
 "nbformat": 4,
 "nbformat_minor": 2
}
