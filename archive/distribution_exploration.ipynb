{
 "cells": [
  {
   "cell_type": "code",
   "execution_count": 7,
   "metadata": {},
   "outputs": [],
   "source": [
    "from skimage.io import imread\n",
    "from os import listdir\n",
    "import numpy as np\n",
    "import matplotlib.pyplot as plt\n",
    "from pathlib import Path"
   ]
  },
  {
   "cell_type": "code",
   "execution_count": 11,
   "metadata": {},
   "outputs": [
    {
     "ename": "FileNotFoundError",
     "evalue": "[WinError 3] The system cannot find the path specified: 'images'",
     "output_type": "error",
     "traceback": [
      "\u001b[1;31m---------------------------------------------------------------------------\u001b[0m",
      "\u001b[1;31mFileNotFoundError\u001b[0m                         Traceback (most recent call last)",
      "\u001b[1;32mc:\\Users\\lucas\\OneDrive\\Dokumente\\16_Repository\\PROJECTS\\ipeo_project\\misc\\distribution_exploration.ipynb Cell 2\u001b[0m line \u001b[0;36m4\n\u001b[0;32m      <a href='vscode-notebook-cell:/c%3A/Users/lucas/OneDrive/Dokumente/16_Repository/PROJECTS/ipeo_project/misc/distribution_exploration.ipynb#W1sZmlsZQ%3D%3D?line=0'>1</a>\u001b[0m image_dir \u001b[39m=\u001b[39m \u001b[39m\"\u001b[39m\u001b[39mimages\u001b[39m\u001b[39m\"\u001b[39m\n\u001b[0;32m      <a href='vscode-notebook-cell:/c%3A/Users/lucas/OneDrive/Dokumente/16_Repository/PROJECTS/ipeo_project/misc/distribution_exploration.ipynb#W1sZmlsZQ%3D%3D?line=1'>2</a>\u001b[0m label_dir \u001b[39m=\u001b[39m \u001b[39m\"\u001b[39m\u001b[39mlabels\u001b[39m\u001b[39m\"\u001b[39m\n\u001b[1;32m----> <a href='vscode-notebook-cell:/c%3A/Users/lucas/OneDrive/Dokumente/16_Repository/PROJECTS/ipeo_project/misc/distribution_exploration.ipynb#W1sZmlsZQ%3D%3D?line=3'>4</a>\u001b[0m image_names \u001b[39m=\u001b[39m listdir(image_dir)\n\u001b[0;32m      <a href='vscode-notebook-cell:/c%3A/Users/lucas/OneDrive/Dokumente/16_Repository/PROJECTS/ipeo_project/misc/distribution_exploration.ipynb#W1sZmlsZQ%3D%3D?line=4'>5</a>\u001b[0m paths \u001b[39m=\u001b[39m [\n\u001b[0;32m      <a href='vscode-notebook-cell:/c%3A/Users/lucas/OneDrive/Dokumente/16_Repository/PROJECTS/ipeo_project/misc/distribution_exploration.ipynb#W1sZmlsZQ%3D%3D?line=5'>6</a>\u001b[0m     (Path(image_dir, image_name), Path(label_dir, image_name))\n\u001b[0;32m      <a href='vscode-notebook-cell:/c%3A/Users/lucas/OneDrive/Dokumente/16_Repository/PROJECTS/ipeo_project/misc/distribution_exploration.ipynb#W1sZmlsZQ%3D%3D?line=6'>7</a>\u001b[0m     \u001b[39mfor\u001b[39;00m image_name \u001b[39min\u001b[39;00m image_names\n\u001b[0;32m      <a href='vscode-notebook-cell:/c%3A/Users/lucas/OneDrive/Dokumente/16_Repository/PROJECTS/ipeo_project/misc/distribution_exploration.ipynb#W1sZmlsZQ%3D%3D?line=7'>8</a>\u001b[0m ]\n",
      "\u001b[1;31mFileNotFoundError\u001b[0m: [WinError 3] The system cannot find the path specified: 'images'"
     ]
    }
   ],
   "source": [
    "\n",
    "image_dir = \"images\"\n",
    "label_dir = \"labels\"\n",
    "\n",
    "image_names = listdir(image_dir)\n",
    "paths = [\n",
    "    (Path(image_dir, image_name), Path(label_dir, image_name))\n",
    "    for image_name in image_names\n",
    "]"
   ]
  },
  {
   "cell_type": "code",
   "execution_count": null,
   "metadata": {},
   "outputs": [],
   "source": [
    "all_normal_pixels = []\n",
    "all_loss_pixels = []\n",
    "\n",
    "for image_path, label_path in paths:\n",
    "    image = imread(image_path)\n",
    "    label = imread(label_path)\n",
    "\n",
    "    normal_mask = label == 0\n",
    "    loss_mask = label == 1\n",
    "\n",
    "    # Pixels have 4 bands, so their shape is (x, 4)\n",
    "    normal_pixels = image[normal_mask]\n",
    "    loss_pixels = image[loss_mask]\n",
    "\n",
    "    all_normal_pixels.extend(normal_pixels)\n",
    "    all_loss_pixels.extend(loss_pixels)\n",
    "\n",
    "all_normal_pixels = np.array(all_normal_pixels)\n",
    "all_loss_pixels = np.array(all_loss_pixels)"
   ]
  },
  {
   "cell_type": "code",
   "execution_count": 4,
   "metadata": {},
   "outputs": [
    {
     "ename": "NameError",
     "evalue": "name 'all_normal_pixels' is not defined",
     "output_type": "error",
     "traceback": [
      "\u001b[1;31m---------------------------------------------------------------------------\u001b[0m",
      "\u001b[1;31mNameError\u001b[0m                                 Traceback (most recent call last)",
      "\u001b[1;32mc:\\Users\\lucas\\OneDrive\\Dokumente\\16_Repository\\PROJECTS\\ipeo_project\\misc\\distribution_exploration.ipynb Cell 4\u001b[0m line \u001b[0;36m1\n\u001b[0;32m      <a href='vscode-notebook-cell:/c%3A/Users/lucas/OneDrive/Dokumente/16_Repository/PROJECTS/ipeo_project/misc/distribution_exploration.ipynb#W3sZmlsZQ%3D%3D?line=8'>9</a>\u001b[0m \u001b[39mfor\u001b[39;00m band \u001b[39min\u001b[39;00m \u001b[39mrange\u001b[39m(num_bands):\n\u001b[0;32m     <a href='vscode-notebook-cell:/c%3A/Users/lucas/OneDrive/Dokumente/16_Repository/PROJECTS/ipeo_project/misc/distribution_exploration.ipynb#W3sZmlsZQ%3D%3D?line=9'>10</a>\u001b[0m     plt\u001b[39m.\u001b[39msubplot(\u001b[39m2\u001b[39m, num_bands, band \u001b[39m+\u001b[39m \u001b[39m1\u001b[39m)\n\u001b[1;32m---> <a href='vscode-notebook-cell:/c%3A/Users/lucas/OneDrive/Dokumente/16_Repository/PROJECTS/ipeo_project/misc/distribution_exploration.ipynb#W3sZmlsZQ%3D%3D?line=10'>11</a>\u001b[0m     normal_pixels_no_outliers \u001b[39m=\u001b[39m remove_outliers(all_normal_pixels[:, band])\n\u001b[0;32m     <a href='vscode-notebook-cell:/c%3A/Users/lucas/OneDrive/Dokumente/16_Repository/PROJECTS/ipeo_project/misc/distribution_exploration.ipynb#W3sZmlsZQ%3D%3D?line=11'>12</a>\u001b[0m     plt\u001b[39m.\u001b[39mhist(normal_pixels_no_outliers, bins\u001b[39m=\u001b[39m\u001b[39m50\u001b[39m,\n\u001b[0;32m     <a href='vscode-notebook-cell:/c%3A/Users/lucas/OneDrive/Dokumente/16_Repository/PROJECTS/ipeo_project/misc/distribution_exploration.ipynb#W3sZmlsZQ%3D%3D?line=12'>13</a>\u001b[0m              color\u001b[39m=\u001b[39m\u001b[39m'\u001b[39m\u001b[39mblue\u001b[39m\u001b[39m'\u001b[39m, alpha\u001b[39m=\u001b[39m\u001b[39m0.7\u001b[39m, label\u001b[39m=\u001b[39m\u001b[39m'\u001b[39m\u001b[39mNormal\u001b[39m\u001b[39m'\u001b[39m, density\u001b[39m=\u001b[39m\u001b[39mTrue\u001b[39;00m)\n\u001b[0;32m     <a href='vscode-notebook-cell:/c%3A/Users/lucas/OneDrive/Dokumente/16_Repository/PROJECTS/ipeo_project/misc/distribution_exploration.ipynb#W3sZmlsZQ%3D%3D?line=13'>14</a>\u001b[0m     plt\u001b[39m.\u001b[39mtitle(\u001b[39mf\u001b[39m\u001b[39m\"\u001b[39m\u001b[39mBand \u001b[39m\u001b[39m{\u001b[39;00mband\u001b[39m \u001b[39m\u001b[39m+\u001b[39m\u001b[39m \u001b[39m\u001b[39m1\u001b[39m\u001b[39m}\u001b[39;00m\u001b[39m - Normal Class\u001b[39m\u001b[39m\"\u001b[39m)\n",
      "\u001b[1;31mNameError\u001b[0m: name 'all_normal_pixels' is not defined"
     ]
    },
    {
     "data": {
      "image/png": "[encoded data removed]",
      "text/plain": [
       "<Figure size 1500x1000 with 1 Axes>"
      ]
     },
     "metadata": {},
     "output_type": "display_data"
    }
   ],
   "source": [
    "from scipy.stats import zscore\n",
    "\n",
    "z_threshold = 5\n",
    "def remove_outliers(data):\n",
    "    return data[np.abs(zscore(data)) < z_threshold]\n",
    "\n",
    "num_bands = 4\n",
    "plt.figure(figsize=(15, 10))\n",
    "for band in range(num_bands):\n",
    "    plt.subplot(2, num_bands, band + 1)\n",
    "    normal_pixels_no_outliers = remove_outliers(all_normal_pixels[:, band])\n",
    "    plt.hist(normal_pixels_no_outliers, bins=50,\n",
    "             color='blue', alpha=0.7, label='Normal', density=True)\n",
    "    plt.title(f\"Band {band + 1} - Normal Class\")\n",
    "    plt.legend()\n",
    "\n",
    "    plt.subplot(2, num_bands, num_bands + band + 1)\n",
    "    loss_pixels_no_outliers = remove_outliers(all_loss_pixels[:, band])\n",
    "    plt.hist(loss_pixels_no_outliers, bins=50,\n",
    "             color='orange', alpha=0.7, label='Loss', density=True)\n",
    "    plt.title(f\"Band {band + 1} - Loss Class\")\n",
    "    plt.legend()\n",
    "\n",
    "plt.show()"
   ]
  }
 ],
 "metadata": {
  "kernelspec": {
   "display_name": "Python 3",
   "language": "python",
   "name": "python3"
  },
  "language_info": {
   "codemirror_mode": {
    "name": "ipython",
    "version": 3
   },
   "file_extension": ".py",
   "mimetype": "text/x-python",
   "name": "python",
   "nbconvert_exporter": "python",
   "pygments_lexer": "ipython3",
   "version": "3.10.13"
  }
 },
 "nbformat": 4,
 "nbformat_minor": 2
}
