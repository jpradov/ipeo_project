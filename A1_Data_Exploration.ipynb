{
 "cells": [
  {
   "cell_type": "code",
   "execution_count": null,
   "metadata": {},
   "outputs": [],
   "source": [
    "from skimage.io import imread\n",
    "import os\n",
    "import numpy as np\n",
    "import seaborn as sns\n",
    "\n",
    "%load_ext autoreload\n",
    "%autoreload 2"
   ]
  },
  {
   "cell_type": "code",
   "execution_count": null,
   "metadata": {},
   "outputs": [],
   "source": [
    "from utils.visualisation import visualise_image\n",
    "\n",
    "\n",
    "# load config\n",
    "import config\n",
    "\n",
    "DATA_PATH = config.PATH_TO_DATA"
   ]
  },
  {
   "cell_type": "markdown",
   "metadata": {},
   "source": [
    "### Visualise one image and mask"
   ]
  },
  {
   "cell_type": "code",
   "execution_count": null,
   "metadata": {},
   "outputs": [],
   "source": [
    "# load first image and mask\n",
    "image_path = os.path.join(DATA_PATH, r\"images\\10000.tif\")\n",
    "label_path = os.path.join(DATA_PATH, r\"labels\\10000.tif\")\n",
    "\n",
    "image = imread(image_path)\n",
    "print(image.shape)\n",
    "\n",
    "label = imread(label_path)\n",
    "print(label.shape)"
   ]
  },
  {
   "cell_type": "code",
   "execution_count": null,
   "metadata": {},
   "outputs": [],
   "source": [
    "visualise_image(image, label)"
   ]
  },
  {
   "cell_type": "markdown",
   "metadata": {},
   "source": [
    "### Loop through all masks"
   ]
  },
  {
   "cell_type": "code",
   "execution_count": null,
   "metadata": {},
   "outputs": [],
   "source": [
    "label_paths = os.path.join(DATA_PATH, r\"labels\")\n",
    "\n",
    "positives = 0\n",
    "all_pixels = 0\n",
    "has_any = list()\n",
    "output = list()\n",
    "\n",
    "for i, mask_path in enumerate(os.listdir(label_paths)):\n",
    "    mask_path = os.path.join(DATA_PATH, r\"labels\", mask_path)\n",
    "    label = imread(mask_path)\n",
    "    true_pixels = label.sum()\n",
    "    total = np.prod(label.shape)  # proportion of true in the image\n",
    "    has_true = True if true_pixels > 0 else False\n",
    "\n",
    "    output.append(true_pixels / total)\n",
    "    positives += true_pixels\n",
    "    all_pixels += total\n",
    "    has_any.append(has_true)\n",
    "    if i % 100 == 0:\n",
    "        print(\"Processing Image {}\".format(i))"
   ]
  },
  {
   "cell_type": "code",
   "execution_count": null,
   "metadata": {},
   "outputs": [],
   "source": [
    "print(\"Overall Proportion of Positive Pixels: {:.2f}\".format(positives / all_pixels))\n",
    "print(\"All Masks have at least one positive: {}\".format(all(has_any)))\n",
    "\n",
    "# Distribution of Proportion of positive pixels across all labels\n",
    "sns.histplot(output, kde=True)"
   ]
  }
 ],
 "metadata": {
  "kernelspec": {
   "display_name": "ipeo",
   "language": "python",
   "name": "python3"
  },
  "language_info": {
   "codemirror_mode": {
    "name": "ipython",
    "version": 3
   },
   "file_extension": ".py",
   "mimetype": "text/x-python",
   "name": "python",
   "nbconvert_exporter": "python",
   "pygments_lexer": "ipython3",
   "version": "3.9.18"
  }
 },
 "nbformat": 4,
 "nbformat_minor": 2
}
