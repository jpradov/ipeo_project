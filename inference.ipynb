{
  "cells": [
    {
      "cell_type": "markdown",
      "metadata": {},
      "source": [
        "# Notebook to Create Example Predictions"
      ]
    },
    {
      "cell_type": "code",
      "execution_count": null,
      "metadata": {},
      "outputs": [],
      "source": [
        "import torch\n",
        "from models.msnet import MSNet\n",
        "import numpy as np\n",
        "from utils.evaluation import visualise_batch_predictions\n",
        "from skimage.io import imread\n",
        "import kornia.augmentation as K"
      ]
    },
    {
      "cell_type": "markdown",
      "metadata": {},
      "source": [
        "Settings"
      ]
    },
    {
      "cell_type": "code",
      "execution_count": null,
      "metadata": {},
      "outputs": [],
      "source": [
        "device = torch.device(\"cuda\" if torch.cuda.is_available() else \"cpu\")\n",
        "bands = [0, 1, 2, 3]\n",
        "batchsize= 10"
      ]
    },
    {
      "cell_type": "markdown",
      "metadata": {},
      "source": [
        "### Load Model and Trained Weights\n",
        "\n",
        "**NOTE**: remember to download the weights place them in the root directory"
      ]
    },
    {
      "cell_type": "code",
      "execution_count": null,
      "metadata": {},
      "outputs": [],
      "source": [
        "model = MSNet(num_classes=2).to(device)\n",
        "model.load_state_dict(torch.load('model_weights.pth', map_location=device))\n",
        "model.eval()"
      ]
    },
    {
      "cell_type": "markdown",
      "metadata": {},
      "source": [
        "## Predict for One Single Image"
      ]
    },
    {
      "cell_type": "code",
      "execution_count": null,
      "metadata": {
        "colab": {
          "base_uri": "https://localhost:8080/"
        },
        "id": "__V9ou2u6_OS",
        "outputId": "088f39b9-7b89-4d41-e24c-62df5c74fedf"
      },
      "outputs": [],
      "source": [
        "# Load image and label in shape expected by the model [Batch size, Channels, Height, Width]\n",
        "\n",
        "image = torch.tensor(imread(\"image_10016.tif\").astype(np.float32)).permute([2,0,1])[None,...]\n",
        "label = torch.tensor(imread(\"label_10016.tif\").astype(np.float32))[None,None,...]\n",
        "\n",
        "# Set mean and standard deviation of each band in the training set for standardization \n",
        "means = torch.tensor([265.7371, 445.2234, 393.7881, 2773.2734])\n",
        "stds = torch.tensor([91.8786, 110.0122, 191.7516, 709.2327])\n",
        "\n",
        "# Pre-process the image\n",
        "preprocess = K.container.AugmentationSequential(\n",
        "        K.Resize((224, 224)),\n",
        "        K.Normalize(mean=means, std=stds),\n",
        "        data_keys=[\"image\", \"mask\"],\n",
        "    )\n",
        "image, label = preprocess(image, label)"
      ]
    },
    {
      "cell_type": "code",
      "execution_count": null,
      "metadata": {},
      "outputs": [],
      "source": [
        "# predict for single image\n",
        "predictions = model(image.to(device))\n",
        "predictions = predictions.argmax(dim=1, keepdim=True)\n",
        "\n",
        "# visualise predictions\n",
        "visualise_batch_predictions(image, label, predictions, rescale=True, bands=bands)"
      ]
    },
    {
      "cell_type": "markdown",
      "metadata": {},
      "source": [
        "## Predict with Batch-wise on Full Testing Loader\n",
        "\n",
        "**NOTE**: You must adjust the PATH_TO_DATA in the config/config.py file to refer to a folder containing the dataset"
      ]
    },
    {
      "cell_type": "code",
      "execution_count": null,
      "metadata": {
        "colab": {
          "base_uri": "https://localhost:8080/"
        },
        "id": "psAezefz5GMB",
        "outputId": "7b49312c-8bb4-4223-f78c-de5321a1323b"
      },
      "outputs": [],
      "source": [
        "from utils.data import create_dataloaders\n",
        "from config import config\n",
        "\n",
        "DATA_PATH = config.PATH_TO_DATA"
      ]
    },
    {
      "cell_type": "code",
      "execution_count": null,
      "metadata": {},
      "outputs": [],
      "source": [
        "# create iterable test_loader\n",
        "_, _, test_loader = create_dataloaders(DATA_PATH, batch_size=batchsize, bands=bands)\n",
        "loader = iter(test_loader)"
      ]
    },
    {
      "cell_type": "markdown",
      "metadata": {},
      "source": [
        "NOTE: You can rerun this following last cell to \"flip\" through the iterable data loader and inspect all test images"
      ]
    },
    {
      "cell_type": "code",
      "execution_count": null,
      "metadata": {
        "colab": {
          "base_uri": "https://localhost:8080/",
          "height": 359
        },
        "id": "PTukrOZRu257",
        "outputId": "d8d95925-ee6f-4652-8f8b-53d2bd196a58"
      },
      "outputs": [],
      "source": [
        "# get data\n",
        "batch_sample, batch_mask = next(loader)\n",
        "batch_sample, batch_mask = batch_sample.to(device), batch_mask.to(device)\n",
        "# create prediction\n",
        "batch_output = model(batch_sample)\n",
        "batch_predictions = batch_output.argmax(dim=1)\n",
        "# visualise prediction \n",
        "visualise_batch_predictions(batch_sample, batch_mask.unsqueeze(1), batch_predictions.unsqueeze(1), rescale=True, bands=bands)"
      ]
    }
  ],
  "metadata": {
    "accelerator": "GPU",
    "colab": {
      "gpuType": "T4",
      "machine_shape": "hm",
      "provenance": []
    },
    "kernelspec": {
      "display_name": "Python 3",
      "name": "python3"
    },
    "language_info": {
      "codemirror_mode": {
        "name": "ipython",
        "version": 3
      },
      "file_extension": ".py",
      "mimetype": "text/x-python",
      "name": "python",
      "nbconvert_exporter": "python",
      "pygments_lexer": "ipython3",
      "version": "3.10.13"
    }
  },
  "nbformat": 4,
  "nbformat_minor": 0
}
