{
  "cells": [
    {
      "cell_type": "code",
      "execution_count": null,
      "metadata": {
        "id": "ghWwpevco5Gt"
      },
      "outputs": [],
      "source": [
        "import torch\n",
        "from models.msnet import MSNet\n",
        "import numpy as np\n",
        "from utils.evaluation import visualise_batch_predictions\n",
        "from skimage.io import imread\n",
        "import kornia.augmentation as K\n",
        "\n",
        "device = torch.device(\"cuda\" if torch.cuda.is_available() else \"cpu\")\n"
      ]
    },
    {
      "cell_type": "code",
      "execution_count": null,
      "metadata": {
        "colab": {
          "base_uri": "https://localhost:8080/"
        },
        "id": "__V9ou2u6_OS",
        "outputId": "088f39b9-7b89-4d41-e24c-62df5c74fedf"
      },
      "outputs": [],
      "source": [
        "# Load image and label in shape expected by the model [Batch size, Channels, Height, Width]\n",
        "\n",
        "image = torch.tensor(imread(\"dataset/images/10016.tif\").astype(np.float32)).permute([2,0,1])[None,...]\n",
        "label = torch.tensor(imread(\"dataset/labels/10016.tif\").astype(np.float32))[None,None,...]\n",
        "\n",
        "# Set mean and standard deviation of each band in the training set for standardization \n",
        "means = torch.tensor([265.7371, 445.2234, 393.7881, 2773.2734])\n",
        "stds = torch.tensor([91.8786, 110.0122, 191.7516, 709.2327])\n",
        "\n",
        "# Pre-process the image\n",
        "preprocess = K.container.AugmentationSequential(\n",
        "        K.Resize((224, 224)),\n",
        "        K.Normalize(mean=means, std=stds),\n",
        "        data_keys=[\"image\", \"mask\"],\n",
        "    )\n",
        "image, label = preprocess(image, label)"
      ]
    },
    {
      "cell_type": "code",
      "execution_count": null,
      "metadata": {},
      "outputs": [],
      "source": [
        "model = MSNet(num_classes=2).to(device)\n",
        "\n",
        "model.load_state_dict(torch.load('model_weights.pth', map_location=device))\n",
        "\n",
        "predictions = model(image.to(device))"
      ]
    },
    {
      "cell_type": "code",
      "execution_count": null,
      "metadata": {
        "colab": {
          "base_uri": "https://localhost:8080/"
        },
        "id": "psAezefz5GMB",
        "outputId": "7b49312c-8bb4-4223-f78c-de5321a1323b"
      },
      "outputs": [],
      "source": [
        "\n"
      ]
    },
    {
      "cell_type": "code",
      "execution_count": null,
      "metadata": {
        "id": "cD9Mmd_uu2B2"
      },
      "outputs": [],
      "source": [
        "loader = iter(test_loader)"
      ]
    },
    {
      "cell_type": "code",
      "execution_count": null,
      "metadata": {
        "colab": {
          "base_uri": "https://localhost:8080/",
          "height": 359
        },
        "id": "PTukrOZRu257",
        "outputId": "d8d95925-ee6f-4652-8f8b-53d2bd196a58"
      },
      "outputs": [],
      "source": [
        "batch_sample, batch_mask = next(loader)\n",
        "batch_sample, batch_mask = batch_sample.to(device), batch_mask.to(device)\n",
        "batch_output = model(batch_sample)\n",
        "batch_predictions = batch_output.argmax(dim=1)\n",
        "visualise_batch_predictions(batch_sample[0:1], batch_mask.unsqueeze(1)[0:1], batch_predictions.unsqueeze(1)[0:1], rescale=True, bands=bands)\n"
      ]
    }
  ],
  "metadata": {
    "accelerator": "GPU",
    "colab": {
      "gpuType": "T4",
      "machine_shape": "hm",
      "provenance": []
    },
    "kernelspec": {
      "display_name": "Python 3",
      "name": "python3"
    },
    "language_info": {
      "codemirror_mode": {
        "name": "ipython",
        "version": 3
      },
      "file_extension": ".py",
      "mimetype": "text/x-python",
      "name": "python",
      "nbconvert_exporter": "python",
      "pygments_lexer": "ipython3",
      "version": "3.10.13"
    }
  },
  "nbformat": 4,
  "nbformat_minor": 0
}
