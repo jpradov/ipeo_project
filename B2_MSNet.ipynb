{
  "cells": [
    {
      "cell_type": "code",
      "execution_count": null,
      "metadata": {
        "colab": {
          "base_uri": "https://localhost:8080/"
        },
        "id": "lDpL0qGgo4V-",
        "outputId": "3dd06186-2325-4913-a54d-e0aafb0c61db"
      },
      "outputs": [],
      "source": [
        "!git clone https://<YOUR_GITHUB_TOKEN_HERE>@github.com/jpradov/ipeo_project.git\n",
        "!pip install kornia imagecodecs==2023.9.18 wandb"
      ]
    },
    {
      "cell_type": "code",
      "execution_count": null,
      "metadata": {
        "colab": {
          "base_uri": "https://localhost:8080/"
        },
        "id": "rAso3d8Io8eY",
        "outputId": "7b5e74d8-771a-483b-faf7-c87a2e41148e"
      },
      "outputs": [],
      "source": [
        "from google.colab import drive\n",
        "import os\n",
        "import sys\n",
        "sys.path.append('/content/ipeo_project')\n",
        "sys.path.append('/content/ipeo_project/utils')\n",
        "\n",
        "drive.mount('/content/drive')"
      ]
    },
    {
      "cell_type": "code",
      "execution_count": null,
      "metadata": {
        "id": "ghWwpevco5Gt"
      },
      "outputs": [],
      "source": [
        "import torch\n",
        "import torch.nn as nn\n",
        "import torch.optim as optim\n",
        "from torch.optim.lr_scheduler import CosineAnnealingLR\n",
        "from utils import data\n",
        "import pandas as pd\n",
        "from torch.utils.data import Subset, DataLoader\n",
        "from torchvision import transforms\n",
        "import config\n",
        "from tqdm import tqdm\n",
        "import kornia\n",
        "import matplotlib.pyplot as plt\n",
        "import numpy as np\n",
        "from utils import evaluation\n",
        "\n",
        "from models.msnet import MSNet\n",
        "from torch.utils.data import DataLoader\n",
        "from utils.data import create_dataloaders\n",
        "from utils.train import run_training\n"
      ]
    },
    {
      "cell_type": "code",
      "execution_count": null,
      "metadata": {
        "colab": {
          "base_uri": "https://localhost:8080/"
        },
        "id": "5YU9d5SVo4V_",
        "outputId": "a6f3c051-78c1-402e-bc2f-71a62d8f5975"
      },
      "outputs": [],
      "source": [
        "#Should be cuda:0 in colab and cpu in local.\n",
        "device = torch.device(\"cuda:0\" if torch.cuda.is_available() else \"cpu\")\n",
        "print(device)\n",
        "#DATA_PATH = config.PATH_TO_DATA\n",
        "DATA_PATH = \"/content/drive/MyDrive/ipeo_project/dataset/\""
      ]
    },
    {
      "cell_type": "code",
      "execution_count": null,
      "metadata": {
        "colab": {
          "base_uri": "https://localhost:8080/",
          "height": 1000
        },
        "id": "ZvW_r29-o4WA",
        "outputId": "e41caa2a-5cd4-4092-a8f0-a0195761cfa1"
      },
      "outputs": [],
      "source": [
        "%load_ext autoreload\n",
        "%autoreload 2\n",
        "max_epochs = 1\n",
        "\n",
        "model = MSNet(num_classes=2).to(device)\n",
        "learning_rate = 1e-5\n",
        "optimizer = optim.AdamW(model.parameters(),lr=learning_rate)\n",
        "criterion = nn.CrossEntropyLoss()\n",
        "results = run_training(experiment_name=\"test\",model=model,num_epochs=max_epochs,lr=learning_rate,batch_size=32,device=device,data_dir=DATA_PATH)\n"
      ]
    }
  ],
  "metadata": {
    "accelerator": "GPU",
    "colab": {
      "gpuType": "T4",
      "provenance": []
    },
    "kernelspec": {
      "display_name": "Python 3",
      "name": "python3"
    },
    "language_info": {
      "codemirror_mode": {
        "name": "ipython",
        "version": 3
      },
      "file_extension": ".py",
      "mimetype": "text/x-python",
      "name": "python",
      "nbconvert_exporter": "python",
      "pygments_lexer": "ipython3",
      "version": "3.10.13"
    }
  },
  "nbformat": 4,
  "nbformat_minor": 0
}
