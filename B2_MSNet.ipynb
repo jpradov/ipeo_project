{
  "cells": [
    {
      "cell_type": "code",
      "execution_count": null,
      "metadata": {
        "colab": {
          "base_uri": "https://localhost:8080/"
        },
        "id": "rAso3d8Io8eY",
        "outputId": "a848ff85-8a4c-4ef5-8c5e-c276bc1c5c4a"
      },
      "outputs": [],
      "source": [
        "#Run if in Colab.\n",
        "!git clone -b msnet https://<YourAccessTokenHERE>@github.com/jpradov/ipeo_project.git\n",
        "from google.colab import drive\n",
        "import os\n",
        "import sys\n",
        "#prepare a folder with your data\n",
        "sys.path.append('/content/ipeo_project')\n",
        "DATA_PATH = \"/content/drive/MyDrive/ipeo_project/dataset/\"\n",
        "drive.mount('/content/drive')\n",
        "!pip install kornia imagecodecs==2023.9.18"
      ]
    },
    {
      "cell_type": "code",
      "execution_count": null,
      "metadata": {
        "id": "ghWwpevco5Gt"
      },
      "outputs": [],
      "source": [
        "import torch\n",
        "import torch.nn as nn\n",
        "import torch.optim as optim\n",
        "from torch.optim.lr_scheduler import CosineAnnealingLR\n",
        "from utils import data\n",
        "import pandas as pd\n",
        "from torch.utils.data import Subset, DataLoader\n",
        "from torchvision import transforms\n",
        "import config\n",
        "from tqdm import tqdm\n",
        "import kornia\n",
        "import matplotlib.pyplot as plt\n",
        "import numpy as np\n",
        "from utils import evaluation\n",
        "\n",
        "from models.msnet import MSNet\n",
        "from torch.utils.data import DataLoader\n",
        "from utils.data import create_dataloaders\n",
        "from utils.train import train_epoch\n"
      ]
    },
    {
      "cell_type": "code",
      "execution_count": null,
      "metadata": {
        "colab": {
          "base_uri": "https://localhost:8080/"
        },
        "id": "5YU9d5SVo4V_",
        "outputId": "acfe8b9f-5194-4697-a694-48262f5609e8"
      },
      "outputs": [],
      "source": [
        "#Should be cuda:0 in colab and cpu in local.\n",
        "device = torch.device(\"cuda:0\" if torch.cuda.is_available() else \"cpu\")\n",
        "print(device)\n",
        "#DATA_PATH = config.PATH_TO_DATA\n"
      ]
    },
    {
      "cell_type": "code",
      "execution_count": null,
      "metadata": {
        "id": "akvuGCZHo4WA"
      },
      "outputs": [],
      "source": [
        "loader_params = {\n",
        "    \"batch_size\" : 32,\n",
        "    \"batch_transforms\" : True,\n",
        "    \"num_workers\" : 2\n",
        "}\n",
        "train_loader, test_loader, val_loader = create_dataloaders(DATA_PATH, **loader_params)\n"
      ]
    },
    {
      "cell_type": "code",
      "execution_count": null,
      "metadata": {
        "colab": {
          "base_uri": "https://localhost:8080/"
        },
        "id": "UNNrkwH6tiDI",
        "outputId": "ccdde02f-8b31-41df-f5fd-b5d1f41ccd2d"
      },
      "outputs": [],
      "source": [
        "print(len(train_loader.torch_loader))"
      ]
    },
    {
      "cell_type": "code",
      "execution_count": null,
      "metadata": {
        "id": "ZvW_r29-o4WA"
      },
      "outputs": [],
      "source": [
        "%load_ext autoreload\n",
        "%autoreload 2\n",
        "max_epochs = 2\n",
        "\n",
        "model = MSNet(num_classes=2).to(device)\n",
        "learning_rate = 0.001\n",
        "optimizer = optim.Adam(model.parameters())\n",
        "criterion = nn.CrossEntropyLoss()\n",
        "loss_history, accuracy_history = train_epoch(model=model,device=device,train_loader=train_loader,optimizer=optimizer,epoch=1,criterion=criterion)\n"
      ]
    },
    {
      "cell_type": "code",
      "execution_count": null,
      "metadata": {
        "id": "GIOqVWIko4WA"
      },
      "outputs": [],
      "source": [
        "%load_ext autoreload\n",
        "%autoreload 2\n",
        "test_loss, accuracy, iou, dice, precision, recall, f1 = evaluation.evaluate(model, device, val_loader, criterion)\n",
        "\n",
        "print(accuracy, iou, dice, precision, recall, f1 )"
      ]
    }
  ],
  "metadata": {
    "accelerator": "GPU",
    "colab": {
      "gpuType": "T4",
      "provenance": []
    },
    "kernelspec": {
      "display_name": "Python 3",
      "name": "python3"
    },
    "language_info": {
      "codemirror_mode": {
        "name": "ipython",
        "version": 3
      },
      "file_extension": ".py",
      "mimetype": "text/x-python",
      "name": "python",
      "nbconvert_exporter": "python",
      "pygments_lexer": "ipython3",
      "version": "3.10.13"
    }
  },
  "nbformat": 4,
  "nbformat_minor": 0
}
