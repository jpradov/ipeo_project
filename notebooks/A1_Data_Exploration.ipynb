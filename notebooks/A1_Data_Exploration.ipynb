{
 "cells": [
  {
   "cell_type": "markdown",
   "metadata": {},
   "source": [
    "# Notebook to explore data and test image loaders"
   ]
  },
  {
   "cell_type": "code",
   "execution_count": null,
   "metadata": {},
   "outputs": [],
   "source": [
    "from skimage.io import imread\n",
    "import os\n",
    "import numpy as np\n",
    "import seaborn as sns\n",
    "import torch\n",
    "import matplotlib.pyplot as plt\n",
    "from torch.utils.data import DataLoader\n",
    "\n",
    "from utils.visualisation import plot_band_distribution\n",
    "from utils.data import create_dataloaders, PlanetBaseDataset, normalized_image\n",
    "from utils.evaluation import visualise_batch_predictions\n",
    "\n",
    "# load config\n",
    "from config import config\n",
    "\n",
    "DATA_PATH = config.PATH_TO_DATA\n",
    "\n",
    "%load_ext autoreload\n",
    "%autoreload 2"
   ]
  },
  {
   "cell_type": "markdown",
   "metadata": {},
   "source": [
    "### Visualise one image and mask"
   ]
  },
  {
   "cell_type": "code",
   "execution_count": null,
   "metadata": {},
   "outputs": [],
   "source": [
    "# load first image and mask\n",
    "image_path = os.path.join(DATA_PATH, r\"images\\10000.tif\")\n",
    "label_path = os.path.join(DATA_PATH, r\"labels\\10000.tif\")\n",
    "\n",
    "image = imread(image_path)\n",
    "print(image.shape)\n",
    "\n",
    "label = imread(label_path)\n",
    "print(label.shape)"
   ]
  },
  {
   "cell_type": "code",
   "execution_count": null,
   "metadata": {},
   "outputs": [],
   "source": [
    "normalized = normalized_image(image)\n",
    "\n",
    "fig, axes = plt.subplots(\n",
    "    nrows=1, ncols=3, sharex=True, sharey=True, figsize=(18, 8)\n",
    ")\n",
    "axes[0].imshow(normalized[:, :, [0, 1, 2]])\n",
    "axes[0].set_title(\"True Color Image\")\n",
    "axes[0].axis(\"off\")\n",
    "\n",
    "axes[1].imshow(normalized[:, :, [3, 0, 1]])\n",
    "axes[1].set_title(\"False Color Image (NINFR, RED, GREEN)\")\n",
    "axes[1].axis(\"off\")\n",
    "\n",
    "axes[2].imshow(label)\n",
    "axes[2].set_title(\"Segmentation Mask\")\n",
    "axes[2].axis(\"off\")"
   ]
  },
  {
   "cell_type": "markdown",
   "metadata": {},
   "source": [
    "### Loop through all masks to inspect class disitrubtions"
   ]
  },
  {
   "cell_type": "code",
   "execution_count": null,
   "metadata": {},
   "outputs": [],
   "source": [
    "label_paths = os.path.join(DATA_PATH, r\"labels\")\n",
    "\n",
    "positives = 0\n",
    "all_pixels = 0\n",
    "has_any = list()\n",
    "output = list()\n",
    "\n",
    "for i, mask_path in enumerate(os.listdir(label_paths)):\n",
    "    mask_path = os.path.join(DATA_PATH, r\"labels\", mask_path)\n",
    "    label = imread(mask_path)\n",
    "    true_pixels = label.sum()\n",
    "    total = np.prod(label.shape)  # proportion of true in the image\n",
    "    has_true = True if true_pixels > 0 else False\n",
    "\n",
    "    output.append(true_pixels / total)\n",
    "    positives += true_pixels\n",
    "    all_pixels += total\n",
    "    has_any.append(has_true)\n",
    "    if i % 100 == 0:\n",
    "        print(\"Processing Image {}\".format(i))"
   ]
  },
  {
   "cell_type": "code",
   "execution_count": null,
   "metadata": {},
   "outputs": [],
   "source": [
    "print(\"Overall Proportion of Positive Pixels: {:.2f}\".format(positives / all_pixels))\n",
    "print(\"All Masks have at least one positive: {}\".format(all(has_any)))\n",
    "\n",
    "# Distribution of Proportion of positive pixels across all labels\n",
    "sns.histplot(output, kde=True)"
   ]
  },
  {
   "cell_type": "markdown",
   "metadata": {},
   "source": [
    "## Test and visualise data loaders"
   ]
  },
  {
   "cell_type": "code",
   "execution_count": null,
   "metadata": {},
   "outputs": [],
   "source": [
    "train_loader, val_loader, test_loader = create_dataloaders(DATA_PATH, batch_size=4)"
   ]
  },
  {
   "cell_type": "code",
   "execution_count": null,
   "metadata": {},
   "outputs": [],
   "source": [
    "def illustrate_data_loader(loader, show_n_images: int):\n",
    "    for i, (batch_sample, batch_masks) in enumerate(loader):\n",
    "        image, label = batch_sample[0], batch_masks[0]\n",
    "        label = label.unsqueeze(0)\n",
    "        image, label = torch.permute(image, (1, 2, 0)), torch.permute(label, (1, 2, 0))\n",
    "        \n",
    "        normalized = normalized_image(image.numpy())\n",
    "\n",
    "        fig, axes = plt.subplots(\n",
    "            nrows=1, ncols=3, sharex=True, sharey=True, figsize=(18, 8)\n",
    "        )\n",
    "        axes[0].imshow(normalized[:, :, [0, 1, 2]])\n",
    "        axes[0].set_title(\"True Color Image\")\n",
    "        axes[0].axis(\"off\")\n",
    "\n",
    "        axes[1].imshow(normalized[:, :, [3, 0, 1]])\n",
    "        axes[1].set_title(\"False Color Image (NINFR, RED, GREEN)\")\n",
    "        axes[1].axis(\"off\")\n",
    "\n",
    "        axes[2].imshow(label)\n",
    "        axes[2].set_title(\"Segmentation Mask\")\n",
    "        axes[2].axis(\"off\")\n",
    "\n",
    "        if i >= show_n_images:\n",
    "            return\n",
    "        \n",
    "def speedtest_dataloader(size, same, num_workers=0, ):\n",
    "    train_loader, _, _ = create_dataloaders(DATA_PATH, batch_size=size, batch_transforms=same, num_workers=num_workers)\n",
    "    for x, y in train_loader: # iterate through one batch\n",
    "        pass\n",
    "    return"
   ]
  },
  {
   "cell_type": "code",
   "execution_count": null,
   "metadata": {},
   "outputs": [],
   "source": [
    "train_loader, val_loader, test_loader = create_dataloaders(DATA_PATH, batch_size=4, bands=[0, 1, 2, 3], transforms=False)\n",
    "\n",
    "batch_sample, batch_masks = next(iter(train_loader))\n",
    "batch_masks = batch_masks.unsqueeze(1)\n",
    "\n",
    "print(batch_sample.shape)\n",
    "print(batch_masks.shape)\n",
    "\n",
    "# repurpose the batch prediction function by simply passing the mask as the prediction\n",
    "visualise_batch_predictions(batch_sample, batch_masks, batch_masks, bands=[0, 1, 2, 3], rescale=False)"
   ]
  },
  {
   "cell_type": "code",
   "execution_count": null,
   "metadata": {},
   "outputs": [],
   "source": [
    "illustrate_data_loader(train_loader, 10)"
   ]
  },
  {
   "cell_type": "code",
   "execution_count": null,
   "metadata": {},
   "outputs": [],
   "source": [
    "illustrate_data_loader(val_loader, 5)"
   ]
  },
  {
   "cell_type": "code",
   "execution_count": null,
   "metadata": {},
   "outputs": [],
   "source": [
    "illustrate_data_loader(test_loader, 5)"
   ]
  },
  {
   "cell_type": "markdown",
   "metadata": {},
   "source": [
    "#### Illustrate distribution of raw values across bands"
   ]
  },
  {
   "cell_type": "code",
   "execution_count": null,
   "metadata": {},
   "outputs": [],
   "source": [
    "dataset = PlanetBaseDataset(data_dir=DATA_PATH, bands=[0,1,2,3])\n",
    "dataloader = DataLoader(dataset, batch_size=4, shuffle=False, sampler=None,\n",
    "           batch_sampler=None, num_workers=0)\n",
    "dataloader = iter(dataloader)"
   ]
  },
  {
   "cell_type": "code",
   "execution_count": null,
   "metadata": {},
   "outputs": [],
   "source": [
    "# plot pixel values for all bands for 4 images\n",
    "\n",
    "sample, mask = next(dataloader)\n",
    "for batch_num in range(4):\n",
    "    plot_band_distribution(sample[batch_num,:,:,:])"
   ]
  },
  {
   "cell_type": "markdown",
   "metadata": {},
   "source": [
    "### Calculated means and standard deviations for normlization"
   ]
  },
  {
   "cell_type": "code",
   "execution_count": null,
   "metadata": {},
   "outputs": [],
   "source": [
    "\n",
    "\n",
    "\"\"\"\n",
    "means = torch.mean(train_sample.float(), dim=(0, 1, 2))\n",
    "std = torch.std(train_sample.float(), dim=(0, 1, 2))\n",
    "min = torch.amin(train_sample.float(), dim=(0, 1, 2))\n",
    "max = torch.amax(train_sample.float(), dim=(0, 1, 2))\n",
    "\"\"\"\n",
    "\n",
    "\n",
    "# pre-calculated means, std, mins, max of raw images calculated on the full train set:\n",
    "means = torch.tensor([ 265.7371,  445.2234,  393.7881, 2773.2734])\n",
    "stds = torch.tensor([ 91.8786, 110.0122, 191.7516, 709.2327])\n",
    "mins = torch.tensor([ 0., 21.,  6., 77.])\n",
    "max = torch.tensor([ 4433.,  5023.,  8230., 10000.])\n"
   ]
  }
 ],
 "metadata": {
  "kernelspec": {
   "display_name": "ipeo",
   "language": "python",
   "name": "python3"
  },
  "language_info": {
   "codemirror_mode": {
    "name": "ipython",
    "version": 3
   },
   "file_extension": ".py",
   "mimetype": "text/x-python",
   "name": "python",
   "nbconvert_exporter": "python",
   "pygments_lexer": "ipython3",
   "version": "3.10.13"
  }
 },
 "nbformat": 4,
 "nbformat_minor": 2
}
