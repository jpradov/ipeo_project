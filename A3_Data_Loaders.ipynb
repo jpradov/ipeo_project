{
 "cells": [
  {
   "cell_type": "code",
   "execution_count": null,
   "metadata": {},
   "outputs": [],
   "source": [
    "from torch.utils.data import DataLoader\n",
    "from utils.visualisation import visualise_image, plot_band_distribution\n",
    "from utils.data import create_dataloaders, PlanetDataset\n",
    "import torch\n",
    "import config\n",
    "\n",
    "device = config.device\n",
    "DATA_PATH = config.PATH_TO_DATA\n",
    "\n",
    "%load_ext autoreload\n",
    "%autoreload 2"
   ]
  },
  {
   "cell_type": "markdown",
   "metadata": {},
   "source": [
    "### Illustrate Data Loaders"
   ]
  },
  {
   "cell_type": "code",
   "execution_count": null,
   "metadata": {},
   "outputs": [],
   "source": [
    "train_loader, val_loader, test_loader = create_dataloaders(DATA_PATH, batch_size=32)"
   ]
  },
  {
   "cell_type": "code",
   "execution_count": null,
   "metadata": {},
   "outputs": [],
   "source": [
    "def illustrate_data_loader(loader, show_n_images: int):\n",
    "    for i, (batch_sample, batch_masks) in enumerate(loader):\n",
    "        image, label = batch_sample[0], batch_masks[0]\n",
    "        image, label = torch.permute(image, (1, 2, 0)), torch.permute(label, (1, 2, 0))\n",
    "        visualise_image(image.numpy(), label.numpy())\n",
    "        if i >= show_n_images:\n",
    "            return\n",
    "        \n",
    "def speedtest_dataloader(size, same, num_workers=0, ):\n",
    "    train_loader, _, _ = create_dataloaders(DATA_PATH, batch_size=size, batch_transforms=same, num_workers=num_workers)\n",
    "    for x, y in train_loader: # iterate through one batch\n",
    "        pass\n",
    "    return"
   ]
  },
  {
   "cell_type": "code",
   "execution_count": null,
   "metadata": {},
   "outputs": [],
   "source": [
    "speedtest_dataloader(4, None)"
   ]
  },
  {
   "cell_type": "code",
   "execution_count": null,
   "metadata": {},
   "outputs": [],
   "source": [
    "%timeit speedtest_dataloader(4, True)"
   ]
  },
  {
   "cell_type": "code",
   "execution_count": null,
   "metadata": {},
   "outputs": [],
   "source": [
    "%timeit speedtest_dataloader(32, None)"
   ]
  },
  {
   "cell_type": "code",
   "execution_count": null,
   "metadata": {},
   "outputs": [],
   "source": [
    "%timeit speedtest_dataloader(32, True)"
   ]
  },
  {
   "cell_type": "code",
   "execution_count": null,
   "metadata": {},
   "outputs": [],
   "source": [
    "%timeit speedtest_dataloader(64, None)"
   ]
  },
  {
   "cell_type": "code",
   "execution_count": null,
   "metadata": {},
   "outputs": [],
   "source": [
    "%timeit speedtest_dataloader(64, True)"
   ]
  },
  {
   "cell_type": "code",
   "execution_count": null,
   "metadata": {},
   "outputs": [],
   "source": [
    "%timeit speedtest_dataloader(64, True, 4) # with concurrency - slower; overhead is taking over if we are just loading the image without a pass through the net?"
   ]
  },
  {
   "cell_type": "code",
   "execution_count": null,
   "metadata": {},
   "outputs": [],
   "source": [
    "illustrate_data_loader(train_loader, 10)"
   ]
  },
  {
   "cell_type": "code",
   "execution_count": null,
   "metadata": {},
   "outputs": [],
   "source": [
    "illustrate_data_loader(val_loader, 5)"
   ]
  },
  {
   "cell_type": "code",
   "execution_count": null,
   "metadata": {},
   "outputs": [],
   "source": [
    "illustrate_data_loader(test_loader, 5)"
   ]
  },
  {
   "cell_type": "markdown",
   "metadata": {},
   "source": [
    "#### Illustrate distribution of raw values across bands"
   ]
  },
  {
   "cell_type": "code",
   "execution_count": null,
   "metadata": {},
   "outputs": [],
   "source": [
    "dataset = PlanetDataset(data_dir=DATA_PATH, bands=[0,1,2,3])\n",
    "dataloader = DataLoader(dataset, batch_size=4, shuffle=False, sampler=None,\n",
    "           batch_sampler=None, num_workers=0)\n",
    "dataloader = iter(dataloader)"
   ]
  },
  {
   "cell_type": "code",
   "execution_count": null,
   "metadata": {},
   "outputs": [],
   "source": [
    "sample, mask = next(dataloader)\n",
    "for batch_num in range(4):\n",
    "    plot_band_distribution(sample[batch_num,:,:,:])"
   ]
  },
  {
   "cell_type": "code",
   "execution_count": null,
   "metadata": {},
   "outputs": [],
   "source": [
    "# pre-calculated means, std, mins, max of raw images calculated on the full test set:\n",
    "means = torch.tensor([ 265.7371,  445.2234,  393.7881, 2773.2734])\n",
    "stds = torch.tensor([ 91.8786, 110.0122, 191.7516, 709.2327])\n",
    "mins = torch.tensor([ 0., 21.,  6., 77.])\n",
    "max = torch.tensor([ 4433.,  5023.,  8230., 10000.])\n",
    "\n",
    "\"\"\"\n",
    "means = torch.mean(train_sample.float(), dim=(0, 1, 2))\n",
    "std = torch.std(train_sample.float(), dim=(0, 1, 2))\n",
    "min = torch.amin(train_sample.float(), dim=(0, 1, 2))\n",
    "max = torch.amax(train_sample.float(), dim=(0, 1, 2))\n",
    "\"\"\""
   ]
  }
 ],
 "metadata": {
  "kernelspec": {
   "display_name": "segment_2_deforest",
   "language": "python",
   "name": "python3"
  },
  "language_info": {
   "codemirror_mode": {
    "name": "ipython",
    "version": 3
   },
   "file_extension": ".py",
   "mimetype": "text/x-python",
   "name": "python",
   "nbconvert_exporter": "python",
   "pygments_lexer": "ipython3",
   "version": "3.10.13"
  }
 },
 "nbformat": 4,
 "nbformat_minor": 2
}
